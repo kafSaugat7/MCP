{
  "nbformat": 4,
  "nbformat_minor": 0,
  "metadata": {
    "colab": {
      "provenance": [],
      "authorship_tag": "ABX9TyPjIXAegK18HXxcydcWoxtj"
    },
    "kernelspec": {
      "name": "python3",
      "display_name": "Python 3"
    },
    "language_info": {
      "name": "python"
    }
  },
  "cells": [
    {
      "cell_type": "code",
      "execution_count": 3,
      "metadata": {
        "id": "vlV0HhXUQbGs"
      },
      "outputs": [],
      "source": [
        "import os\n",
        "import numpy as np\n",
        "import pandas as pd"
      ]
    },
    {
      "cell_type": "code",
      "source": [
        "np.random.seed(seed=0)\n",
        "Xi = np.random.choice([0,1], 2)\n",
        "W = np.random.choice([-1,1], 2)\n",
        "print(f'Input vector:{Xi}, Weight vector:{W}')"
      ],
      "metadata": {
        "colab": {
          "base_uri": "https://localhost:8080/"
        },
        "id": "laexFq3lTFcA",
        "outputId": "0d4151ed-4cef-4e91-edab-a6cde1b98e51"
      },
      "execution_count": 24,
      "outputs": [
        {
          "output_type": "stream",
          "name": "stdout",
          "text": [
            "Input vector:[0 1], Weight vector:[ 1 -1]\n"
          ]
        }
      ]
    },
    {
      "cell_type": "code",
      "source": [
        "dot = Xi @ W\n",
        "print(f'Dot product: {dot}')"
      ],
      "metadata": {
        "colab": {
          "base_uri": "https://localhost:8080/"
        },
        "id": "Dr7C1HpKTKkC",
        "outputId": "e590aad7-a599-4140-e229-60d5400af5b7"
      },
      "execution_count": 25,
      "outputs": [
        {
          "output_type": "stream",
          "name": "stdout",
          "text": [
            "Dot product: -1\n"
          ]
        }
      ]
    },
    {
      "cell_type": "code",
      "source": [
        "def linear_threshold_gate(dot: int, T: float) -> int:\n",
        "    '''Returns the binary threshold output'''\n",
        "    if dot >= T:\n",
        "        return 1\n",
        "    else:\n",
        "        return 0"
      ],
      "metadata": {
        "id": "oBiNPkjrTRFT"
      },
      "execution_count": 26,
      "outputs": []
    },
    {
      "cell_type": "code",
      "source": [
        "T = -1\n",
        "activation = linear_threshold_gate(dot, T)\n",
        "print(f'Activation: {activation}')"
      ],
      "metadata": {
        "colab": {
          "base_uri": "https://localhost:8080/"
        },
        "id": "Hn6yGFOeTRH-",
        "outputId": "76b35f09-91d1-4875-aced-4e589c25cd6f"
      },
      "execution_count": 27,
      "outputs": [
        {
          "output_type": "stream",
          "name": "stdout",
          "text": [
            "Activation: 1\n"
          ]
        }
      ]
    },
    {
      "cell_type": "code",
      "source": [
        "T = 0\n",
        "activation = linear_threshold_gate(dot, T)\n",
        "print(f'Activation: {activation}')"
      ],
      "metadata": {
        "colab": {
          "base_uri": "https://localhost:8080/"
        },
        "id": "DzAM6y6sTRLs",
        "outputId": "72dbbea6-8007-480f-e6fc-407d9c7c0cf5"
      },
      "execution_count": 28,
      "outputs": [
        {
          "output_type": "stream",
          "name": "stdout",
          "text": [
            "Activation: 0\n"
          ]
        }
      ]
    },
    {
      "cell_type": "code",
      "source": [
        "input_size = 4\n",
        "\n"
      ],
      "metadata": {
        "id": "y2YWDr00TRQL"
      },
      "execution_count": 29,
      "outputs": []
    },
    {
      "cell_type": "code",
      "source": [
        "class MCPNeuron(object):\n",
        "  def __init__(self, w = [1,1], t = 1, gates= False):\n",
        "        self.w = np.array(w)\n",
        "        self.t = t\n",
        "        self.gates = gates\n",
        "\n",
        "  def predict(self, message):\n",
        "        x = message\n",
        "        sum_ = np.inner(self.w,x)\n",
        "        if not self.gates:\n",
        "          if sum_ >= self.t:\n",
        "              return \"Activation : 1\" , \"Neuron Fires\"\n",
        "          else:\n",
        "              return \"Activation : 0\" , \"Neuron doesn't Fire\"\n",
        "        else:\n",
        "          if sum_ >= self.t:\n",
        "              return 1\n",
        "          else:\n",
        "              return 0"
      ],
      "metadata": {
        "id": "0Tw5WZXXTRRm"
      },
      "execution_count": 30,
      "outputs": []
    },
    {
      "cell_type": "code",
      "source": [
        "np.random.seed(seed=0)\n",
        "X = np.random.choice([0,1], input_size)\n",
        "W = np.random.choice([-1,1], input_size)\n",
        "print(f'Input vector:{X}, Weight vector:{W}')\n",
        "\n",
        "mcp_neuron = MCPNeuron(W, t=2)\n",
        "\n",
        "\n",
        "mcp_neuron.predict(X)"
      ],
      "metadata": {
        "colab": {
          "base_uri": "https://localhost:8080/"
        },
        "id": "-Gmqt2IGTnVg",
        "outputId": "7e15c8d0-391b-4b2a-935b-631b26e5bfe2"
      },
      "execution_count": 33,
      "outputs": [
        {
          "output_type": "stream",
          "name": "stdout",
          "text": [
            "Input vector:[0 1 1 0], Weight vector:[1 1 1 1]\n"
          ]
        },
        {
          "output_type": "execute_result",
          "data": {
            "text/plain": [
              "('Activation : 1', 'Neuron Fires')"
            ]
          },
          "metadata": {},
          "execution_count": 33
        }
      ]
    },
    {
      "cell_type": "code",
      "source": [
        "def TruthTable(object, input, input_labels, output_labels):\n",
        "    table = pd.DataFrame(input, columns = input_labels)\n",
        "\n",
        "    out_signals = []\n",
        "    for row in input:\n",
        "        signal = object.predict(message = row)\n",
        "        out_signals.append(signal)\n",
        "\n",
        "    table[output_labels] = pd.Series(out_signals)\n",
        "    return table"
      ],
      "metadata": {
        "id": "S6fZtUUITnaV"
      },
      "execution_count": 34,
      "outputs": []
    },
    {
      "cell_type": "code",
      "source": [
        "in_labels = ['x1', 'x2']\n",
        "out_label = 'y'\n",
        "in_signals = np.array([\n",
        "    [0,0],\n",
        "    [0,1],\n",
        "    [1,0],\n",
        "    [1,1]\n",
        "])\n"
      ],
      "metadata": {
        "id": "cCor9hRmTncN"
      },
      "execution_count": 35,
      "outputs": []
    },
    {
      "cell_type": "code",
      "source": [
        "print(in_signals)\n"
      ],
      "metadata": {
        "colab": {
          "base_uri": "https://localhost:8080/"
        },
        "id": "trwhdzw5T1RV",
        "outputId": "a9f54b8a-a714-41ef-b0a2-f2b265b64b15"
      },
      "execution_count": 36,
      "outputs": [
        {
          "output_type": "stream",
          "name": "stdout",
          "text": [
            "[[0 0]\n",
            " [0 1]\n",
            " [1 0]\n",
            " [1 1]]\n"
          ]
        }
      ]
    },
    {
      "cell_type": "code",
      "source": [
        "or_weights = np.array([1,1])\n",
        "or_threshold = 1\n",
        "print(f'Weights: {or_weights} \\nThreshold: {or_threshold}')"
      ],
      "metadata": {
        "colab": {
          "base_uri": "https://localhost:8080/"
        },
        "id": "VwViZcSKT1Uu",
        "outputId": "20cd1792-3f7a-4390-aa18-13cc7d0c7e57"
      },
      "execution_count": 37,
      "outputs": [
        {
          "output_type": "stream",
          "name": "stdout",
          "text": [
            "Weights: [1 1] \n",
            "Threshold: 1\n"
          ]
        }
      ]
    },
    {
      "cell_type": "code",
      "source": [
        "OR = MCPNeuron(or_weights, or_threshold, \"True\")\n",
        "OR_table = TruthTable(OR, in_signals, in_labels, out_label)\n",
        "print(OR_table)"
      ],
      "metadata": {
        "colab": {
          "base_uri": "https://localhost:8080/"
        },
        "id": "v-vxnoKpT1dM",
        "outputId": "d592b6a3-47f2-4bce-9b09-d63d6a09655c"
      },
      "execution_count": 38,
      "outputs": [
        {
          "output_type": "stream",
          "name": "stdout",
          "text": [
            "   x1  x2  y\n",
            "0   0   0  0\n",
            "1   0   1  1\n",
            "2   1   0  1\n",
            "3   1   1  1\n"
          ]
        }
      ]
    },
    {
      "cell_type": "code",
      "source": [
        "\n",
        "print(in_signals)"
      ],
      "metadata": {
        "colab": {
          "base_uri": "https://localhost:8080/"
        },
        "id": "A5M5BzwoT1jy",
        "outputId": "bb7c480d-1a4b-423d-f84d-1cf9f38b49a6"
      },
      "execution_count": 39,
      "outputs": [
        {
          "output_type": "stream",
          "name": "stdout",
          "text": [
            "[[0 0]\n",
            " [0 1]\n",
            " [1 0]\n",
            " [1 1]]\n"
          ]
        }
      ]
    },
    {
      "cell_type": "code",
      "source": [
        "and_weights = np.array([1,1])\n",
        "and_threshold = 2\n",
        "print(f'Weights: {and_weights} \\nThreshold: {and_threshold}')"
      ],
      "metadata": {
        "colab": {
          "base_uri": "https://localhost:8080/"
        },
        "id": "Ukxn0LyZT1lw",
        "outputId": "9ebb649d-b042-4fad-cc79-28ea9792a1cf"
      },
      "execution_count": 40,
      "outputs": [
        {
          "output_type": "stream",
          "name": "stdout",
          "text": [
            "Weights: [1 1] \n",
            "Threshold: 2\n"
          ]
        }
      ]
    },
    {
      "cell_type": "code",
      "source": [
        "AND = MCPNeuron(and_weights, and_threshold, \"True\")\n",
        "AND_table = TruthTable(AND, in_signals, in_labels, out_label)\n",
        "print(AND_table)"
      ],
      "metadata": {
        "colab": {
          "base_uri": "https://localhost:8080/"
        },
        "id": "DeronxtdT1nl",
        "outputId": "fad33b88-951b-457f-c51d-fa0594cc7dba"
      },
      "execution_count": 41,
      "outputs": [
        {
          "output_type": "stream",
          "name": "stdout",
          "text": [
            "   x1  x2  y\n",
            "0   0   0  0\n",
            "1   0   1  0\n",
            "2   1   0  0\n",
            "3   1   1  1\n"
          ]
        }
      ]
    },
    {
      "cell_type": "code",
      "source": [
        "in_labels = ['x1', 'x2']\n",
        "out_label = 'y'\n",
        "in_signals = np.array([\n",
        "    [0,0],\n",
        "    [0,1],\n",
        "    [1,0],\n",
        "    [1,1]\n",
        "])"
      ],
      "metadata": {
        "id": "RB2oSV22T1pG"
      },
      "execution_count": 42,
      "outputs": []
    },
    {
      "cell_type": "code",
      "source": [
        "print(in_signals)"
      ],
      "metadata": {
        "colab": {
          "base_uri": "https://localhost:8080/"
        },
        "id": "gRty3j78UgQS",
        "outputId": "43658f76-f6c1-4cbf-9cca-846c6c2008e9"
      },
      "execution_count": 43,
      "outputs": [
        {
          "output_type": "stream",
          "name": "stdout",
          "text": [
            "[[0 0]\n",
            " [0 1]\n",
            " [1 0]\n",
            " [1 1]]\n"
          ]
        }
      ]
    },
    {
      "cell_type": "code",
      "source": [
        "\n",
        "nor_weights = np.array([-1,-1])\n",
        "\n",
        "nor_threshold = 0\n",
        "print(f'Weights: {nor_weights} \\nThreshold: {nor_threshold}')\n",
        "\n",
        "NOR = MCPNeuron(nor_weights, nor_threshold, \"True\")\n",
        "NOR_table = TruthTable(NOR, in_signals, in_labels, out_label)\n",
        "print(NOR_table)"
      ],
      "metadata": {
        "colab": {
          "base_uri": "https://localhost:8080/"
        },
        "id": "eP5C8YhWT1wo",
        "outputId": "6685211c-0f66-419d-9caf-c8c855c63d55"
      },
      "execution_count": 44,
      "outputs": [
        {
          "output_type": "stream",
          "name": "stdout",
          "text": [
            "Weights: [-1 -1] \n",
            "Threshold: 0\n",
            "   x1  x2  y\n",
            "0   0   0  1\n",
            "1   0   1  0\n",
            "2   1   0  0\n",
            "3   1   1  0\n"
          ]
        }
      ]
    },
    {
      "cell_type": "code",
      "source": [],
      "metadata": {
        "id": "LeMGVHzfT105"
      },
      "execution_count": null,
      "outputs": []
    }
  ]
}